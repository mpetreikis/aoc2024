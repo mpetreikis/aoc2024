{
 "cells": [
  {
   "cell_type": "markdown",
   "metadata": {},
   "source": [
    "The problem involves calculating the sum of the total absolute distances between numbers that are smallest/biggest. In the input matrix the numbers are not ordered according to how close they are to each other (first column to second column, that is). However, the distance can be calculated by opting for vectors instead of the absolute distances, with a positive vector formed by the number in the first column and the negative vector formed by the number in the second column. If the numbers are negative, the opposite numbers have to be used to quantify those vectors.\n",
    "\n",
    "The columns do not have to be ordered because the total sum of the distances need to be calculated and the sum of the vectors will yield that anyway. The easiest way to imagine that is in the scenario where all of the numbers in the first column are greater than in the second column - whichever pair of the numbers is picked to calculate each distance, their sum will remain the same. \n",
    "\n",
    "THIS SOLUTION PROVED TO BE WRONG!"
   ]
  },
  {
   "cell_type": "markdown",
   "metadata": {},
   "source": [
    "Solution 2:\n",
    "\n",
    "I will just check how inefficient time-wise the sorting solution would be"
   ]
  },
  {
   "cell_type": "code",
   "execution_count": 19,
   "metadata": {},
   "outputs": [
    {
     "data": {
      "text/html": [
       "<div>\n",
       "<style scoped>\n",
       "    .dataframe tbody tr th:only-of-type {\n",
       "        vertical-align: middle;\n",
       "    }\n",
       "\n",
       "    .dataframe tbody tr th {\n",
       "        vertical-align: top;\n",
       "    }\n",
       "\n",
       "    .dataframe thead th {\n",
       "        text-align: right;\n",
       "    }\n",
       "</style>\n",
       "<table border=\"1\" class=\"dataframe\">\n",
       "  <thead>\n",
       "    <tr style=\"text-align: right;\">\n",
       "      <th></th>\n",
       "      <th>0</th>\n",
       "      <th>1</th>\n",
       "    </tr>\n",
       "  </thead>\n",
       "  <tbody>\n",
       "    <tr>\n",
       "      <th>0</th>\n",
       "      <td>18944</td>\n",
       "      <td>47230</td>\n",
       "    </tr>\n",
       "    <tr>\n",
       "      <th>1</th>\n",
       "      <td>94847</td>\n",
       "      <td>63037</td>\n",
       "    </tr>\n",
       "    <tr>\n",
       "      <th>2</th>\n",
       "      <td>93893</td>\n",
       "      <td>35622</td>\n",
       "    </tr>\n",
       "    <tr>\n",
       "      <th>3</th>\n",
       "      <td>37174</td>\n",
       "      <td>43365</td>\n",
       "    </tr>\n",
       "    <tr>\n",
       "      <th>4</th>\n",
       "      <td>77982</td>\n",
       "      <td>51397</td>\n",
       "    </tr>\n",
       "    <tr>\n",
       "      <th>...</th>\n",
       "      <td>...</td>\n",
       "      <td>...</td>\n",
       "    </tr>\n",
       "    <tr>\n",
       "      <th>995</th>\n",
       "      <td>83605</td>\n",
       "      <td>21276</td>\n",
       "    </tr>\n",
       "    <tr>\n",
       "      <th>996</th>\n",
       "      <td>51080</td>\n",
       "      <td>32589</td>\n",
       "    </tr>\n",
       "    <tr>\n",
       "      <th>997</th>\n",
       "      <td>16575</td>\n",
       "      <td>21128</td>\n",
       "    </tr>\n",
       "    <tr>\n",
       "      <th>998</th>\n",
       "      <td>31651</td>\n",
       "      <td>49166</td>\n",
       "    </tr>\n",
       "    <tr>\n",
       "      <th>999</th>\n",
       "      <td>66721</td>\n",
       "      <td>94774</td>\n",
       "    </tr>\n",
       "  </tbody>\n",
       "</table>\n",
       "<p>1000 rows × 2 columns</p>\n",
       "</div>"
      ],
      "text/plain": [
       "         0      1\n",
       "0    18944  47230\n",
       "1    94847  63037\n",
       "2    93893  35622\n",
       "3    37174  43365\n",
       "4    77982  51397\n",
       "..     ...    ...\n",
       "995  83605  21276\n",
       "996  51080  32589\n",
       "997  16575  21128\n",
       "998  31651  49166\n",
       "999  66721  94774\n",
       "\n",
       "[1000 rows x 2 columns]"
      ]
     },
     "execution_count": 19,
     "metadata": {},
     "output_type": "execute_result"
    }
   ],
   "source": [
    "import pandas as pd\n",
    "\n",
    "#CREATING A DATAFRAME FROM THE INPUT FILE\n",
    "full_input = pd.DataFrame([line.strip().split('   ') for line in open('input.txt', 'r')])\n",
    "full_input = full_input.astype(int)\n",
    "full_input"
   ]
  },
  {
   "cell_type": "code",
   "execution_count": 28,
   "metadata": {},
   "outputs": [
    {
     "name": "stdout",
     "output_type": "stream",
     "text": [
      "1590491\n"
     ]
    }
   ],
   "source": [
    "#SORTING THE DATAFRAME\n",
    "first_column_sorted=sorted(full_input.loc[:,0])\n",
    "second_column_sorted=sorted(full_input.loc[:,1])\n",
    "full_input.loc[:,'Sorted 0']=first_column_sorted\n",
    "full_input.loc[:,'Sorted 1']=second_column_sorted\n",
    "full_input.loc[:,'Absolute Difference']=abs(full_input.loc[:,'Sorted 0']-full_input.loc[:,'Sorted 1'])\n",
    "total_distance=sum(full_input.loc[:,'Absolute Difference'])\n",
    "print(total_distance)\n"
   ]
  }
 ],
 "metadata": {
  "kernelspec": {
   "display_name": "daps",
   "language": "python",
   "name": "python3"
  },
  "language_info": {
   "codemirror_mode": {
    "name": "ipython",
    "version": 3
   },
   "file_extension": ".py",
   "mimetype": "text/x-python",
   "name": "python",
   "nbconvert_exporter": "python",
   "pygments_lexer": "ipython3",
   "version": "3.9.20"
  }
 },
 "nbformat": 4,
 "nbformat_minor": 2
}
