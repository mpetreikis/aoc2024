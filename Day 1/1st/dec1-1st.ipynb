{
 "cells": [
  {
   "cell_type": "markdown",
   "metadata": {},
   "source": [
    "The problem involves calculating the sum of the total absolute distances between numbers that are smallest/biggest. In the input matrix the numbers are not ordered according to how close they are to each other (first column to second column, that is). However, the distance can be calculated by opting for vectors instead of the absolute distances, with a positive vector formed when the number in the first column is greater than in the second one and a negative vector formed in the opposite case.\n",
    "\n",
    "The columns do not have to be ordered because the total sum of the distances need to be calculated and the sum of the vectors will yield that anyway. The easiest way to imagine that is in the scenario where all of the numbers in the first column are greater than in the second column - whichever pair of the numbers is picked to calculate each distance, their sum will remain the same. "
   ]
  },
  {
   "cell_type": "code",
   "execution_count": null,
   "metadata": {},
   "outputs": [],
   "source": []
  }
 ],
 "metadata": {
  "kernelspec": {
   "display_name": "daps",
   "language": "python",
   "name": "python3"
  },
  "language_info": {
   "name": "python",
   "version": "3.9.20"
  }
 },
 "nbformat": 4,
 "nbformat_minor": 2
}
