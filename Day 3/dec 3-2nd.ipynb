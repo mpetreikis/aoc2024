{
 "cells": [
  {
   "cell_type": "markdown",
   "metadata": {},
   "source": [
    "In this case I will need to use two different regex - one for capturing the strings in between do's and don't's and the second one for determining the product sum. I will first encapsulate the solution of the first problem into a function that I can call for each string in between a do and a don't, which would return the sum of the products."
   ]
  },
  {
   "cell_type": "code",
   "execution_count": null,
   "metadata": {},
   "outputs": [],
   "source": [
    "import pandas as pd\n",
    "import re\n",
    "\n",
    "def mul_product_sum(input_string):\n",
    "    matches=re.findall(r'(mul)([\\x28])(\\d+)(,)(\\d+)([\\x29])',input_string)\n",
    "    matches_df=pd.DataFrame(matches)\n",
    "    matches_df['Number 1 Integers']=matches_df.iloc[:,2].astype(int)\n",
    "    matches_df['Number 2 Integers']=matches_df.iloc[:,4].astype(int)\n",
    "    a=matches_df['Number 1 Integers']*matches_df['Number 2 Integers']\n",
    "    total_sum=sum(a)\n",
    "\n",
    "    return total_sum\n"
   ]
  },
  {
   "cell_type": "markdown",
   "metadata": {},
   "source": [
    "I will test out if the function works as intended with the input file."
   ]
  },
  {
   "cell_type": "code",
   "execution_count": 2,
   "metadata": {},
   "outputs": [
    {
     "name": "stdout",
     "output_type": "stream",
     "text": [
      "167650499\n"
     ]
    }
   ],
   "source": [
    "#READING OFF THE INPUT AS A SINGLE STRING\n",
    "with open('input.txt', 'r') as file:\n",
    "    full_input=file.read()\n",
    "\n",
    "sum_1=mul_product_sum(full_input)\n",
    "print(sum_1)"
   ]
  },
  {
   "cell_type": "markdown",
   "metadata": {},
   "source": [
    "It works fine! Excellent, now I need to create a list of all the strings in between individual do's and don't's. "
   ]
  },
  {
   "cell_type": "markdown",
   "metadata": {},
   "source": [
    "I will use a very long \"(?:(?:do\\(\\))([\\s\\S]*?)(?:don't\\(\\)))|(?:\\A([\\s\\S]*?)(?:don't\\(\\)))|(?:(?:do\\(\\))([\\s\\S]*?)\\z)\" regex expression for this. It can be split into three different conditions:\n",
    "\n",
    "-\"(?:(?:do\\(\\))([\\s\\S]*?)(?:don't\\(\\)))\" finds the strings between do's and don't's despite any possible line breaks. The important bit of this regex expression is the *? lazy quantifier, as this results in as short of a string as possible.\n",
    "\n",
    "-\"(?:\\A([\\s\\S]*?)(?:don't\\(\\)))\" finds the string between the beginning of the whole string and the first don't.\n",
    "\n",
    "-\"(?:(?:do\\(\\))([\\s\\S]*?)\\z)\" finds the last string between a do and the end of the string."
   ]
  },
  {
   "cell_type": "code",
   "execution_count": 7,
   "metadata": {},
   "outputs": [
    {
     "data": {
      "text/html": [
       "<div>\n",
       "<style scoped>\n",
       "    .dataframe tbody tr th:only-of-type {\n",
       "        vertical-align: middle;\n",
       "    }\n",
       "\n",
       "    .dataframe tbody tr th {\n",
       "        vertical-align: top;\n",
       "    }\n",
       "\n",
       "    .dataframe thead th {\n",
       "        text-align: right;\n",
       "    }\n",
       "</style>\n",
       "<table border=\"1\" class=\"dataframe\">\n",
       "  <thead>\n",
       "    <tr style=\"text-align: right;\">\n",
       "      <th></th>\n",
       "      <th>0</th>\n",
       "      <th>1</th>\n",
       "      <th>2</th>\n",
       "    </tr>\n",
       "  </thead>\n",
       "  <tbody>\n",
       "    <tr>\n",
       "      <th>0</th>\n",
       "      <td></td>\n",
       "      <td>;({where()+'what()mul(445,324)#what()select()(...</td>\n",
       "      <td></td>\n",
       "    </tr>\n",
       "    <tr>\n",
       "      <th>1</th>\n",
       "      <td>;mul(648,804))~where()who()mul(433,801)':how()...</td>\n",
       "      <td></td>\n",
       "      <td></td>\n",
       "    </tr>\n",
       "    <tr>\n",
       "      <th>2</th>\n",
       "      <td>what()*]~;mul(873,971)//%mul(78,89)~'from()&amp;wh...</td>\n",
       "      <td></td>\n",
       "      <td></td>\n",
       "    </tr>\n",
       "    <tr>\n",
       "      <th>3</th>\n",
       "      <td>&amp;~!;mul(247,653)-mul(828,136)when()select()fro...</td>\n",
       "      <td></td>\n",
       "      <td></td>\n",
       "    </tr>\n",
       "    <tr>\n",
       "      <th>4</th>\n",
       "      <td>~)'who()%mul(151,599)what() [where()%#mul(673^...</td>\n",
       "      <td></td>\n",
       "      <td></td>\n",
       "    </tr>\n",
       "    <tr>\n",
       "      <th>5</th>\n",
       "      <td>what()$what(536,484)*[]:$select()}mul(943,870)...</td>\n",
       "      <td></td>\n",
       "      <td></td>\n",
       "    </tr>\n",
       "    <tr>\n",
       "      <th>6</th>\n",
       "      <td>from()what();&lt;}&lt;mul(20,583),$),mul(770,783)(!%...</td>\n",
       "      <td></td>\n",
       "      <td></td>\n",
       "    </tr>\n",
       "    <tr>\n",
       "      <th>7</th>\n",
       "      <td>-}who()who()#how()&gt;mul(882,623who()[)'[why())#...</td>\n",
       "      <td></td>\n",
       "      <td></td>\n",
       "    </tr>\n",
       "    <tr>\n",
       "      <th>8</th>\n",
       "      <td>[(^#mul(810,887)mul(127? ,+ !do()from()#what()...</td>\n",
       "      <td></td>\n",
       "      <td></td>\n",
       "    </tr>\n",
       "    <tr>\n",
       "      <th>9</th>\n",
       "      <td>from()mul(509,815)]&amp;*who(487,114)?#who()(mul(8...</td>\n",
       "      <td></td>\n",
       "      <td></td>\n",
       "    </tr>\n",
       "    <tr>\n",
       "      <th>10</th>\n",
       "      <td>]?*~/how()mul(60,36)}+~@where()^mul(95,237)wha...</td>\n",
       "      <td></td>\n",
       "      <td></td>\n",
       "    </tr>\n",
       "    <tr>\n",
       "      <th>11</th>\n",
       "      <td>::~+}how())mul(454,304)who()%what()select()wha...</td>\n",
       "      <td></td>\n",
       "      <td></td>\n",
       "    </tr>\n",
       "    <tr>\n",
       "      <th>12</th>\n",
       "      <td>;what()&gt;@what()mul(254,522)select()how()'why()...</td>\n",
       "      <td></td>\n",
       "      <td></td>\n",
       "    </tr>\n",
       "    <tr>\n",
       "      <th>13</th>\n",
       "      <td>~^--#'&lt;@&gt;&gt;mul(354,115)~when()'what():from(354,...</td>\n",
       "      <td></td>\n",
       "      <td></td>\n",
       "    </tr>\n",
       "    <tr>\n",
       "      <th>14</th>\n",
       "      <td>&amp;^&lt;^from()#&gt;why()-mul(527,726)!/select()%?mul(...</td>\n",
       "      <td></td>\n",
       "      <td></td>\n",
       "    </tr>\n",
       "    <tr>\n",
       "      <th>15</th>\n",
       "      <td>#~+[what()when()^~/mul(203,659)when()[}select(...</td>\n",
       "      <td></td>\n",
       "      <td></td>\n",
       "    </tr>\n",
       "    <tr>\n",
       "      <th>16</th>\n",
       "      <td>mul(103,225) ~;;'why()*~mul(187,119)+/]mul+(se...</td>\n",
       "      <td></td>\n",
       "      <td></td>\n",
       "    </tr>\n",
       "    <tr>\n",
       "      <th>17</th>\n",
       "      <td>:)&lt;select()~ mul(571,144){mul(931,78)mul(200,8...</td>\n",
       "      <td></td>\n",
       "      <td></td>\n",
       "    </tr>\n",
       "    <tr>\n",
       "      <th>18</th>\n",
       "      <td>select()/*:)]!mul(272,138) mul(211,851)]/$mul(...</td>\n",
       "      <td></td>\n",
       "      <td></td>\n",
       "    </tr>\n",
       "    <tr>\n",
       "      <th>19</th>\n",
       "      <td></td>\n",
       "      <td></td>\n",
       "      <td>#&gt;mul(53,112)!(what()/?do()(,how()%mul(523,469...</td>\n",
       "    </tr>\n",
       "  </tbody>\n",
       "</table>\n",
       "</div>"
      ],
      "text/plain": [
       "                                                    0  \\\n",
       "0                                                       \n",
       "1   ;mul(648,804))~where()who()mul(433,801)':how()...   \n",
       "2   what()*]~;mul(873,971)//%mul(78,89)~'from()&wh...   \n",
       "3   &~!;mul(247,653)-mul(828,136)when()select()fro...   \n",
       "4   ~)'who()%mul(151,599)what() [where()%#mul(673^...   \n",
       "5   what()$what(536,484)*[]:$select()}mul(943,870)...   \n",
       "6   from()what();<}<mul(20,583),$),mul(770,783)(!%...   \n",
       "7   -}who()who()#how()>mul(882,623who()[)'[why())#...   \n",
       "8   [(^#mul(810,887)mul(127? ,+ !do()from()#what()...   \n",
       "9   from()mul(509,815)]&*who(487,114)?#who()(mul(8...   \n",
       "10  ]?*~/how()mul(60,36)}+~@where()^mul(95,237)wha...   \n",
       "11  ::~+}how())mul(454,304)who()%what()select()wha...   \n",
       "12  ;what()>@what()mul(254,522)select()how()'why()...   \n",
       "13  ~^--#'<@>>mul(354,115)~when()'what():from(354,...   \n",
       "14  &^<^from()#>why()-mul(527,726)!/select()%?mul(...   \n",
       "15  #~+[what()when()^~/mul(203,659)when()[}select(...   \n",
       "16  mul(103,225) ~;;'why()*~mul(187,119)+/]mul+(se...   \n",
       "17  :)<select()~ mul(571,144){mul(931,78)mul(200,8...   \n",
       "18  select()/*:)]!mul(272,138) mul(211,851)]/$mul(...   \n",
       "19                                                      \n",
       "\n",
       "                                                    1  \\\n",
       "0   ;({where()+'what()mul(445,324)#what()select()(...   \n",
       "1                                                       \n",
       "2                                                       \n",
       "3                                                       \n",
       "4                                                       \n",
       "5                                                       \n",
       "6                                                       \n",
       "7                                                       \n",
       "8                                                       \n",
       "9                                                       \n",
       "10                                                      \n",
       "11                                                      \n",
       "12                                                      \n",
       "13                                                      \n",
       "14                                                      \n",
       "15                                                      \n",
       "16                                                      \n",
       "17                                                      \n",
       "18                                                      \n",
       "19                                                      \n",
       "\n",
       "                                                    2  \n",
       "0                                                      \n",
       "1                                                      \n",
       "2                                                      \n",
       "3                                                      \n",
       "4                                                      \n",
       "5                                                      \n",
       "6                                                      \n",
       "7                                                      \n",
       "8                                                      \n",
       "9                                                      \n",
       "10                                                     \n",
       "11                                                     \n",
       "12                                                     \n",
       "13                                                     \n",
       "14                                                     \n",
       "15                                                     \n",
       "16                                                     \n",
       "17                                                     \n",
       "18                                                     \n",
       "19  #>mul(53,112)!(what()/?do()(,how()%mul(523,469...  "
      ]
     },
     "execution_count": 7,
     "metadata": {},
     "output_type": "execute_result"
    }
   ],
   "source": [
    "required_strings=re.findall(r\"(?:(?:do\\(\\))([\\s\\S]*?)(?:don't\\(\\)))|(?:\\A([\\s\\S]*?)(?:don't\\(\\)))|(?:(?:do\\(\\))([\\s\\S]*?)\\Z)\",full_input)\n",
    "required_strings_df=pd.DataFrame(required_strings)\n",
    "required_strings_df"
   ]
  },
  {
   "cell_type": "code",
   "execution_count": 8,
   "metadata": {},
   "outputs": [
    {
     "data": {
      "text/plain": [
       "0     ;({where()+'what()mul(445,324)#what()select()(...\n",
       "1     ;mul(648,804))~where()who()mul(433,801)':how()...\n",
       "2     what()*]~;mul(873,971)//%mul(78,89)~'from()&wh...\n",
       "3     &~!;mul(247,653)-mul(828,136)when()select()fro...\n",
       "4     ~)'who()%mul(151,599)what() [where()%#mul(673^...\n",
       "5     what()$what(536,484)*[]:$select()}mul(943,870)...\n",
       "6     from()what();<}<mul(20,583),$),mul(770,783)(!%...\n",
       "7     -}who()who()#how()>mul(882,623who()[)'[why())#...\n",
       "8     [(^#mul(810,887)mul(127? ,+ !do()from()#what()...\n",
       "9     from()mul(509,815)]&*who(487,114)?#who()(mul(8...\n",
       "10    ]?*~/how()mul(60,36)}+~@where()^mul(95,237)wha...\n",
       "11    ::~+}how())mul(454,304)who()%what()select()wha...\n",
       "12    ;what()>@what()mul(254,522)select()how()'why()...\n",
       "13    ~^--#'<@>>mul(354,115)~when()'what():from(354,...\n",
       "14    &^<^from()#>why()-mul(527,726)!/select()%?mul(...\n",
       "15    #~+[what()when()^~/mul(203,659)when()[}select(...\n",
       "16    mul(103,225) ~;;'why()*~mul(187,119)+/]mul+(se...\n",
       "17    :)<select()~ mul(571,144){mul(931,78)mul(200,8...\n",
       "18    select()/*:)]!mul(272,138) mul(211,851)]/$mul(...\n",
       "19    #>mul(53,112)!(what()/?do()(,how()%mul(523,469...\n",
       "Name: Combined strings, dtype: object"
      ]
     },
     "execution_count": 8,
     "metadata": {},
     "output_type": "execute_result"
    }
   ],
   "source": [
    "required_strings_df['Combined strings']=required_strings_df.iloc[:,0]+required_strings_df.iloc[:,1]+required_strings_df.iloc[:,2]\n",
    "required_strings_df['Combined strings']"
   ]
  },
  {
   "cell_type": "markdown",
   "metadata": {},
   "source": [
    "Now all I need to do is to calculate the product sum in each of those strings and to calculate the total sum!"
   ]
  },
  {
   "cell_type": "code",
   "execution_count": 10,
   "metadata": {},
   "outputs": [
    {
     "name": "stdout",
     "output_type": "stream",
     "text": [
      "95846796\n"
     ]
    }
   ],
   "source": [
    "total_sum=0\n",
    "\n",
    "for row in required_strings_df.index:\n",
    "    sum_of_string=mul_product_sum(required_strings_df.loc[row,'Combined strings'])\n",
    "    total_sum=total_sum+sum_of_string\n",
    "\n",
    "print(total_sum)    "
   ]
  }
 ],
 "metadata": {
  "kernelspec": {
   "display_name": "daps",
   "language": "python",
   "name": "python3"
  },
  "language_info": {
   "codemirror_mode": {
    "name": "ipython",
    "version": 3
   },
   "file_extension": ".py",
   "mimetype": "text/x-python",
   "name": "python",
   "nbconvert_exporter": "python",
   "pygments_lexer": "ipython3",
   "version": "3.9.20"
  }
 },
 "nbformat": 4,
 "nbformat_minor": 2
}
