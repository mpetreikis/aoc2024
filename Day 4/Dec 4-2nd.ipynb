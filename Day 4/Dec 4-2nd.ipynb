{
 "cells": [
  {
   "cell_type": "markdown",
   "metadata": {},
   "source": [
    "The second problem might even be considered to be easier because I just have to find all the A's and calculate the number of S's and M's around each A in the diagonal directions. If the number of S's and M's are two each, then an X-MAS pattern is found!"
   ]
  },
  {
   "cell_type": "code",
   "execution_count": 1,
   "metadata": {},
   "outputs": [],
   "source": [
    "import pandas as pd\n",
    "\n",
    "def input_to_df(input_file_string):\n",
    "    #list() needs to be used instead of split() because there is no separator\n",
    "    input_df = pd.DataFrame([list(line.strip()) for line in open(input_file_string, 'r')])\n",
    "    return input_df\n"
   ]
  },
  {
   "cell_type": "code",
   "execution_count": 2,
   "metadata": {},
   "outputs": [
    {
     "data": {
      "text/html": [
       "<div>\n",
       "<style scoped>\n",
       "    .dataframe tbody tr th:only-of-type {\n",
       "        vertical-align: middle;\n",
       "    }\n",
       "\n",
       "    .dataframe tbody tr th {\n",
       "        vertical-align: top;\n",
       "    }\n",
       "\n",
       "    .dataframe thead th {\n",
       "        text-align: right;\n",
       "    }\n",
       "</style>\n",
       "<table border=\"1\" class=\"dataframe\">\n",
       "  <thead>\n",
       "    <tr style=\"text-align: right;\">\n",
       "      <th></th>\n",
       "      <th>0</th>\n",
       "      <th>1</th>\n",
       "      <th>2</th>\n",
       "      <th>3</th>\n",
       "      <th>4</th>\n",
       "      <th>5</th>\n",
       "      <th>6</th>\n",
       "      <th>7</th>\n",
       "      <th>8</th>\n",
       "      <th>9</th>\n",
       "    </tr>\n",
       "  </thead>\n",
       "  <tbody>\n",
       "    <tr>\n",
       "      <th>0</th>\n",
       "      <td>M</td>\n",
       "      <td>M</td>\n",
       "      <td>M</td>\n",
       "      <td>S</td>\n",
       "      <td>X</td>\n",
       "      <td>X</td>\n",
       "      <td>M</td>\n",
       "      <td>A</td>\n",
       "      <td>S</td>\n",
       "      <td>M</td>\n",
       "    </tr>\n",
       "    <tr>\n",
       "      <th>1</th>\n",
       "      <td>M</td>\n",
       "      <td>S</td>\n",
       "      <td>A</td>\n",
       "      <td>M</td>\n",
       "      <td>X</td>\n",
       "      <td>M</td>\n",
       "      <td>S</td>\n",
       "      <td>M</td>\n",
       "      <td>S</td>\n",
       "      <td>A</td>\n",
       "    </tr>\n",
       "    <tr>\n",
       "      <th>2</th>\n",
       "      <td>A</td>\n",
       "      <td>M</td>\n",
       "      <td>X</td>\n",
       "      <td>S</td>\n",
       "      <td>X</td>\n",
       "      <td>M</td>\n",
       "      <td>A</td>\n",
       "      <td>A</td>\n",
       "      <td>M</td>\n",
       "      <td>M</td>\n",
       "    </tr>\n",
       "    <tr>\n",
       "      <th>3</th>\n",
       "      <td>M</td>\n",
       "      <td>S</td>\n",
       "      <td>A</td>\n",
       "      <td>M</td>\n",
       "      <td>A</td>\n",
       "      <td>S</td>\n",
       "      <td>M</td>\n",
       "      <td>S</td>\n",
       "      <td>M</td>\n",
       "      <td>X</td>\n",
       "    </tr>\n",
       "    <tr>\n",
       "      <th>4</th>\n",
       "      <td>X</td>\n",
       "      <td>M</td>\n",
       "      <td>A</td>\n",
       "      <td>S</td>\n",
       "      <td>A</td>\n",
       "      <td>M</td>\n",
       "      <td>X</td>\n",
       "      <td>A</td>\n",
       "      <td>M</td>\n",
       "      <td>M</td>\n",
       "    </tr>\n",
       "    <tr>\n",
       "      <th>5</th>\n",
       "      <td>X</td>\n",
       "      <td>X</td>\n",
       "      <td>A</td>\n",
       "      <td>M</td>\n",
       "      <td>M</td>\n",
       "      <td>X</td>\n",
       "      <td>X</td>\n",
       "      <td>A</td>\n",
       "      <td>M</td>\n",
       "      <td>A</td>\n",
       "    </tr>\n",
       "    <tr>\n",
       "      <th>6</th>\n",
       "      <td>S</td>\n",
       "      <td>M</td>\n",
       "      <td>S</td>\n",
       "      <td>M</td>\n",
       "      <td>S</td>\n",
       "      <td>A</td>\n",
       "      <td>S</td>\n",
       "      <td>X</td>\n",
       "      <td>S</td>\n",
       "      <td>S</td>\n",
       "    </tr>\n",
       "    <tr>\n",
       "      <th>7</th>\n",
       "      <td>S</td>\n",
       "      <td>A</td>\n",
       "      <td>X</td>\n",
       "      <td>A</td>\n",
       "      <td>M</td>\n",
       "      <td>A</td>\n",
       "      <td>S</td>\n",
       "      <td>A</td>\n",
       "      <td>A</td>\n",
       "      <td>A</td>\n",
       "    </tr>\n",
       "    <tr>\n",
       "      <th>8</th>\n",
       "      <td>M</td>\n",
       "      <td>A</td>\n",
       "      <td>M</td>\n",
       "      <td>M</td>\n",
       "      <td>M</td>\n",
       "      <td>X</td>\n",
       "      <td>M</td>\n",
       "      <td>M</td>\n",
       "      <td>M</td>\n",
       "      <td>M</td>\n",
       "    </tr>\n",
       "    <tr>\n",
       "      <th>9</th>\n",
       "      <td>M</td>\n",
       "      <td>X</td>\n",
       "      <td>M</td>\n",
       "      <td>X</td>\n",
       "      <td>A</td>\n",
       "      <td>X</td>\n",
       "      <td>M</td>\n",
       "      <td>A</td>\n",
       "      <td>S</td>\n",
       "      <td>X</td>\n",
       "    </tr>\n",
       "  </tbody>\n",
       "</table>\n",
       "</div>"
      ],
      "text/plain": [
       "   0  1  2  3  4  5  6  7  8  9\n",
       "0  M  M  M  S  X  X  M  A  S  M\n",
       "1  M  S  A  M  X  M  S  M  S  A\n",
       "2  A  M  X  S  X  M  A  A  M  M\n",
       "3  M  S  A  M  A  S  M  S  M  X\n",
       "4  X  M  A  S  A  M  X  A  M  M\n",
       "5  X  X  A  M  M  X  X  A  M  A\n",
       "6  S  M  S  M  S  A  S  X  S  S\n",
       "7  S  A  X  A  M  A  S  A  A  A\n",
       "8  M  A  M  M  M  X  M  M  M  M\n",
       "9  M  X  M  X  A  X  M  A  S  X"
      ]
     },
     "execution_count": 2,
     "metadata": {},
     "output_type": "execute_result"
    }
   ],
   "source": [
    "small_input_df=input_to_df('small_input.txt')\n",
    "small_input_df"
   ]
  },
  {
   "cell_type": "code",
   "execution_count": 3,
   "metadata": {},
   "outputs": [
    {
     "data": {
      "text/html": [
       "<div>\n",
       "<style scoped>\n",
       "    .dataframe tbody tr th:only-of-type {\n",
       "        vertical-align: middle;\n",
       "    }\n",
       "\n",
       "    .dataframe tbody tr th {\n",
       "        vertical-align: top;\n",
       "    }\n",
       "\n",
       "    .dataframe thead th {\n",
       "        text-align: right;\n",
       "    }\n",
       "</style>\n",
       "<table border=\"1\" class=\"dataframe\">\n",
       "  <thead>\n",
       "    <tr style=\"text-align: right;\">\n",
       "      <th></th>\n",
       "      <th>Row hop</th>\n",
       "      <th>Column hop</th>\n",
       "    </tr>\n",
       "  </thead>\n",
       "  <tbody>\n",
       "    <tr>\n",
       "      <th>NE</th>\n",
       "      <td>-1</td>\n",
       "      <td>1</td>\n",
       "    </tr>\n",
       "    <tr>\n",
       "      <th>NW</th>\n",
       "      <td>-1</td>\n",
       "      <td>-1</td>\n",
       "    </tr>\n",
       "    <tr>\n",
       "      <th>SE</th>\n",
       "      <td>1</td>\n",
       "      <td>1</td>\n",
       "    </tr>\n",
       "    <tr>\n",
       "      <th>SW</th>\n",
       "      <td>1</td>\n",
       "      <td>-1</td>\n",
       "    </tr>\n",
       "  </tbody>\n",
       "</table>\n",
       "</div>"
      ],
      "text/plain": [
       "    Row hop  Column hop\n",
       "NE       -1           1\n",
       "NW       -1          -1\n",
       "SE        1           1\n",
       "SW        1          -1"
      ]
     },
     "execution_count": 3,
     "metadata": {},
     "output_type": "execute_result"
    }
   ],
   "source": [
    "directions=['NE','NW','SE','SW']\n",
    "hops=[[-1,1],[-1,-1],[1,1],[1,-1]]\n",
    "column_names=['Row hop','Column hop']\n",
    "directions_hops_df=pd.DataFrame(hops,index=directions,columns=column_names)\n",
    "directions_hops_df"
   ]
  },
  {
   "cell_type": "code",
   "execution_count": 11,
   "metadata": {},
   "outputs": [],
   "source": [
    "def find_x_mas(df_input):\n",
    "    no_rows,no_col = df_input.shape\n",
    "    no_rows=no_rows-1\n",
    "    no_col=no_col-1\n",
    "\n",
    "    no_patterns_found=0\n",
    "    for column_n,column_name in enumerate(df_input.columns):\n",
    "        for row_n,row_name in enumerate(df_input.index):\n",
    "            directions_hops_df=pd.DataFrame(hops,index=directions,columns=column_names)\n",
    "            result=(df_input.iloc[row_n,column_n]=='A')\n",
    "            no_s=0\n",
    "            no_m=0\n",
    "            if result == 1:\n",
    "                for dir in directions_hops_df.index:\n",
    "                    row_in_q=row_n+directions_hops_df.loc[dir,'Row hop']\n",
    "                    col_in_q=column_n+directions_hops_df.loc[dir,'Column hop']\n",
    "                    if (row_in_q > no_rows) or (row_in_q < 0) or (col_in_q < 0) or (col_in_q > no_col):\n",
    "                        break\n",
    "                    elif df_input.iloc[row_in_q,col_in_q]=='S':\n",
    "                        no_s=no_s+1\n",
    "                    elif df_input.iloc[row_in_q,col_in_q]=='M':\n",
    "                        no_m=no_m+1\n",
    "                    else:\n",
    "                        pass\n",
    "                if (no_s==2) and (no_m==2):\n",
    "                    no_patterns_found=no_patterns_found+1\n",
    "                else:\n",
    "                    pass\n",
    "            else:\n",
    "                pass\n",
    "    \n",
    "    return no_patterns_found"
   ]
  },
  {
   "cell_type": "code",
   "execution_count": 12,
   "metadata": {},
   "outputs": [
    {
     "name": "stdout",
     "output_type": "stream",
     "text": [
      "9\n"
     ]
    }
   ],
   "source": [
    "small_answer=find_x_mas(small_input_df)\n",
    "print(small_answer)"
   ]
  },
  {
   "cell_type": "markdown",
   "metadata": {},
   "source": [
    "The answer to the example input seems to be correct, so I should calculate it for the full input!"
   ]
  },
  {
   "cell_type": "code",
   "execution_count": 13,
   "metadata": {},
   "outputs": [
    {
     "name": "stdout",
     "output_type": "stream",
     "text": [
      "1924\n"
     ]
    }
   ],
   "source": [
    "full_input_df=input_to_df('input.txt')\n",
    "print(find_x_mas(full_input_df))"
   ]
  },
  {
   "cell_type": "markdown",
   "metadata": {},
   "source": [
    "Wrong answer! Apparently it is too high!\n",
    "\n",
    "That is because I forgot to consider the case when M's and S's are placed on the completely opposite ends of the A. This can be done by changing the order the directions are cycled through - if the first two directions are the opposite and collect the same letter, there should be a break clause in the loop because it means that they are on the opposite ends!"
   ]
  },
  {
   "cell_type": "code",
   "execution_count": 14,
   "metadata": {},
   "outputs": [
    {
     "data": {
      "text/html": [
       "<div>\n",
       "<style scoped>\n",
       "    .dataframe tbody tr th:only-of-type {\n",
       "        vertical-align: middle;\n",
       "    }\n",
       "\n",
       "    .dataframe tbody tr th {\n",
       "        vertical-align: top;\n",
       "    }\n",
       "\n",
       "    .dataframe thead th {\n",
       "        text-align: right;\n",
       "    }\n",
       "</style>\n",
       "<table border=\"1\" class=\"dataframe\">\n",
       "  <thead>\n",
       "    <tr style=\"text-align: right;\">\n",
       "      <th></th>\n",
       "      <th>Row hop</th>\n",
       "      <th>Column hop</th>\n",
       "    </tr>\n",
       "  </thead>\n",
       "  <tbody>\n",
       "    <tr>\n",
       "      <th>NE</th>\n",
       "      <td>-1</td>\n",
       "      <td>1</td>\n",
       "    </tr>\n",
       "    <tr>\n",
       "      <th>SW</th>\n",
       "      <td>1</td>\n",
       "      <td>-1</td>\n",
       "    </tr>\n",
       "    <tr>\n",
       "      <th>NW</th>\n",
       "      <td>-1</td>\n",
       "      <td>-1</td>\n",
       "    </tr>\n",
       "    <tr>\n",
       "      <th>SE</th>\n",
       "      <td>1</td>\n",
       "      <td>1</td>\n",
       "    </tr>\n",
       "  </tbody>\n",
       "</table>\n",
       "</div>"
      ],
      "text/plain": [
       "    Row hop  Column hop\n",
       "NE       -1           1\n",
       "SW        1          -1\n",
       "NW       -1          -1\n",
       "SE        1           1"
      ]
     },
     "execution_count": 14,
     "metadata": {},
     "output_type": "execute_result"
    }
   ],
   "source": [
    "directions=['NE','SW','NW','SE']\n",
    "hops=[[-1,1],[1,-1],[-1,-1],[1,1]]\n",
    "column_names=['Row hop','Column hop']\n",
    "directions_hops_df=pd.DataFrame(hops,index=directions,columns=column_names)\n",
    "directions_hops_df"
   ]
  },
  {
   "cell_type": "code",
   "execution_count": 15,
   "metadata": {},
   "outputs": [],
   "source": [
    "def find_x_mas_2(df_input):\n",
    "    no_rows,no_col = df_input.shape\n",
    "    no_rows=no_rows-1\n",
    "    no_col=no_col-1\n",
    "\n",
    "    no_patterns_found=0\n",
    "    for column_n,column_name in enumerate(df_input.columns):\n",
    "        for row_n,row_name in enumerate(df_input.index):\n",
    "            directions_hops_df=pd.DataFrame(hops,index=directions,columns=column_names)\n",
    "            result=(df_input.iloc[row_n,column_n]=='A')\n",
    "            no_s=0\n",
    "            no_m=0\n",
    "            if result == 1:\n",
    "                for dir in directions_hops_df.index:\n",
    "                    row_in_q=row_n+directions_hops_df.loc[dir,'Row hop']\n",
    "                    col_in_q=column_n+directions_hops_df.loc[dir,'Column hop']\n",
    "                    if (row_in_q > no_rows) or (row_in_q < 0) or (col_in_q < 0) or (col_in_q > no_col):\n",
    "                        break\n",
    "                    elif df_input.iloc[row_in_q,col_in_q]=='S':\n",
    "                        no_s=no_s+1\n",
    "                    elif df_input.iloc[row_in_q,col_in_q]=='M':\n",
    "                        no_m=no_m+1\n",
    "                    else:\n",
    "                        pass\n",
    "\n",
    "                    if (no_s==2) and (no_m==0):\n",
    "                        break\n",
    "                    elif (no_s==0) and (no_m==2):\n",
    "                        break\n",
    "                if (no_s==2) and (no_m==2):\n",
    "                    no_patterns_found=no_patterns_found+1\n",
    "                else:\n",
    "                    pass\n",
    "            else:\n",
    "                pass\n",
    "    \n",
    "    return no_patterns_found"
   ]
  },
  {
   "cell_type": "code",
   "execution_count": 16,
   "metadata": {},
   "outputs": [
    {
     "name": "stdout",
     "output_type": "stream",
     "text": [
      "1873\n"
     ]
    }
   ],
   "source": [
    "full_input_df=input_to_df('input.txt')\n",
    "print(find_x_mas_2(full_input_df))"
   ]
  },
  {
   "cell_type": "markdown",
   "metadata": {},
   "source": [
    "Finally, the correct answer!"
   ]
  }
 ],
 "metadata": {
  "kernelspec": {
   "display_name": "daps",
   "language": "python",
   "name": "python3"
  },
  "language_info": {
   "codemirror_mode": {
    "name": "ipython",
    "version": 3
   },
   "file_extension": ".py",
   "mimetype": "text/x-python",
   "name": "python",
   "nbconvert_exporter": "python",
   "pygments_lexer": "ipython3",
   "version": "3.9.20"
  }
 },
 "nbformat": 4,
 "nbformat_minor": 2
}
